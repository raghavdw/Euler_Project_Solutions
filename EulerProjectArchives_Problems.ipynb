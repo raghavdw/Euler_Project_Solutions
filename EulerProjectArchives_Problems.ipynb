{
  "cells": [
    {
      "cell_type": "markdown",
      "metadata": {
        "id": "view-in-github",
        "colab_type": "text"
      },
      "source": [
        "<a href=\"https://colab.research.google.com/github/raghavdw/Euler_Project_Solutions/blob/main/EulerProjectArchives_Problems.ipynb\" target=\"_parent\"><img src=\"https://colab.research.google.com/assets/colab-badge.svg\" alt=\"Open In Colab\"/></a>"
      ]
    },
    {
      "cell_type": "markdown",
      "metadata": {
        "id": "x9ojH7fL6AaR"
      },
      "source": [
        "# Euler Problem 1\n",
        "\n",
        "https://projecteuler.net/problem=1\n",
        "\n",
        "## If we list all the natural numbers below $10$ that are multiples of $3$ or $5$, we get $3, 5, 6, $ and $9$. The sum of these multiples is $23$.\n",
        "\n",
        "## Find the sum of all the multiples of or below $1000$."
      ]
    },
    {
      "cell_type": "markdown",
      "metadata": {
        "id": "7iP1SmvP6I9I"
      },
      "source": [
        "##### Method 1: loop, range, condition"
      ]
    },
    {
      "cell_type": "code",
      "execution_count": null,
      "metadata": {
        "id": "2QsKSO-D6F0i"
      },
      "outputs": [],
      "source": [
        "def select(n: int) -> bool:\n",
        "    return n % 3 == 0 or n % 5 == 0\n",
        "\n",
        "def euler001_1(limit:int) -> int:\n",
        "    n, total = 1, 0\n",
        "    while n < limit:\n",
        "        if select(n):\n",
        "            total += n\n",
        "        n += 1\n",
        "    return total"
      ]
    },
    {
      "cell_type": "code",
      "execution_count": null,
      "metadata": {
        "colab": {
          "base_uri": "https://localhost:8080/"
        },
        "id": "ssMuCMgH6OpC",
        "outputId": "7ebd53aa-ebed-4d4a-9cad-5dce6e712eb9"
      },
      "outputs": [
        {
          "name": "stdout",
          "output_type": "stream",
          "text": [
            "23\n",
            "233168\n"
          ]
        }
      ],
      "source": [
        "print(euler001_1(10))\n",
        "print(euler001_1(1000))"
      ]
    },
    {
      "cell_type": "markdown",
      "metadata": {
        "id": "qtVyPuwX6U94"
      },
      "source": [
        "##### Method 2: loop, range, condition"
      ]
    },
    {
      "cell_type": "code",
      "execution_count": null,
      "metadata": {
        "id": "TKcQN7Yt6Wb1"
      },
      "outputs": [],
      "source": [
        "def euler001_2(limit: int) -> int:\n",
        "    total = 0\n",
        "    for n in range(1, limit):\n",
        "        if select(n):\n",
        "            total += n\n",
        "    return total"
      ]
    },
    {
      "cell_type": "code",
      "execution_count": null,
      "metadata": {
        "colab": {
          "base_uri": "https://localhost:8080/"
        },
        "id": "JuONv2C96a50",
        "outputId": "3b1bdf44-7b96-45f2-dad1-3978ea584713"
      },
      "outputs": [
        {
          "name": "stdout",
          "output_type": "stream",
          "text": [
            "233168\n"
          ]
        }
      ],
      "source": [
        "print(euler001_2(1000))"
      ]
    },
    {
      "cell_type": "markdown",
      "metadata": {
        "id": "ghXuHdhq6adQ"
      },
      "source": [
        "##### Method 3: range,multiples"
      ]
    },
    {
      "cell_type": "code",
      "execution_count": null,
      "metadata": {
        "id": "yCrtN92d6iQm"
      },
      "outputs": [],
      "source": [
        "def euler001_3(limit: int) -> int:\n",
        "    return sum(range(3,limit,3)) +\\\n",
        "           sum(range(5,limit,5)) -\\\n",
        "           sum(range(15,limit,15))"
      ]
    },
    {
      "cell_type": "code",
      "execution_count": null,
      "metadata": {
        "colab": {
          "base_uri": "https://localhost:8080/"
        },
        "id": "SLl-cvmx6lPc",
        "outputId": "d1ee0e89-ca48-4364-dda1-d54953cbe5ff"
      },
      "outputs": [
        {
          "name": "stdout",
          "output_type": "stream",
          "text": [
            "233168\n"
          ]
        }
      ],
      "source": [
        "print(euler001_3(1000))"
      ]
    },
    {
      "cell_type": "markdown",
      "metadata": {
        "id": "VBnYwuvV605a"
      },
      "source": [
        "##### Method 4: Multiples, range"
      ]
    },
    {
      "cell_type": "code",
      "execution_count": null,
      "metadata": {
        "id": "nWSU6Ifd6_JE"
      },
      "outputs": [],
      "source": [
        "def multiples(of:int, upto: int) -> range:\n",
        "    return range(of, upto, of)"
      ]
    },
    {
      "cell_type": "code",
      "execution_count": null,
      "metadata": {
        "id": "X-9qvlJ67AxP"
      },
      "outputs": [],
      "source": [
        "def euler001_4(limit: int) -> int:\n",
        "    return sum(set(multiples(3,limit)) | set(multiples(5, limit)))"
      ]
    },
    {
      "cell_type": "code",
      "execution_count": null,
      "metadata": {
        "colab": {
          "base_uri": "https://localhost:8080/"
        },
        "id": "1m2eYTzG7Ga6",
        "outputId": "989359b1-7524-4302-b5d2-ec10afb42625"
      },
      "outputs": [
        {
          "name": "stdout",
          "output_type": "stream",
          "text": [
            "233168\n"
          ]
        }
      ],
      "source": [
        "print(euler001_4(1000))"
      ]
    },
    {
      "cell_type": "markdown",
      "metadata": {
        "id": "NgdrP6iD7KMS"
      },
      "source": [
        "##### Method 5: filter(condition,range)"
      ]
    },
    {
      "cell_type": "code",
      "execution_count": null,
      "metadata": {
        "id": "kl-_i0DU7OCB"
      },
      "outputs": [],
      "source": [
        "def euler001_5(limit:int) -> int:\n",
        "    return sum(filter(select,range(1,limit)))"
      ]
    },
    {
      "cell_type": "code",
      "execution_count": null,
      "metadata": {
        "colab": {
          "base_uri": "https://localhost:8080/"
        },
        "id": "g0vGs8Bo7Qd0",
        "outputId": "755107b0-0a85-4865-b4a1-3e61e9702776"
      },
      "outputs": [
        {
          "name": "stdout",
          "output_type": "stream",
          "text": [
            "233168\n"
          ]
        }
      ],
      "source": [
        "print(euler001_5(1000))"
      ]
    },
    {
      "cell_type": "markdown",
      "metadata": {
        "id": "48NDFRM57Wi9"
      },
      "source": [
        "##### Method 6: list comprehension"
      ]
    },
    {
      "cell_type": "code",
      "execution_count": null,
      "metadata": {
        "id": "JfMwDr1E7ZXq"
      },
      "outputs": [],
      "source": [
        "def euler001_6(limit:int) -> int:\n",
        "    return sum([i for i in range(1, limit) if select(i)])"
      ]
    },
    {
      "cell_type": "code",
      "execution_count": null,
      "metadata": {
        "colab": {
          "base_uri": "https://localhost:8080/"
        },
        "id": "_Ho2ylTb7bZr",
        "outputId": "6368b91f-471b-449d-8422-d8300bb29d2c"
      },
      "outputs": [
        {
          "data": {
            "text/plain": [
              "233168"
            ]
          },
          "execution_count": 34,
          "metadata": {},
          "output_type": "execute_result"
        }
      ],
      "source": [
        "euler001_6(1000)"
      ]
    },
    {
      "cell_type": "markdown",
      "metadata": {
        "id": "bYVbAIQNZHAg"
      },
      "source": [
        "# Euler Problem 10\n",
        "\n",
        "https://projecteuler.net/problem=10\n",
        "\n",
        "## The sum of prime below 10 is 2 + 3 + 5 + 7 = 17\n",
        "\n",
        "## Find the sum of all primes below two million"
      ]
    },
    {
      "cell_type": "markdown",
      "metadata": {
        "id": "JtoJf5NUZJbE"
      },
      "source": [
        " # Solution 10\n",
        "\n",
        " if $N$ = $a \\times b$\n",
        "\n",
        "and  \n",
        "\n",
        " $a > \\sqrt{N} \\Rightarrow b < \\sqrt{N}$  \n",
        "\n",
        " which means if a number has no factor (except 1) below $\\sqrt{N}$ it **is** a prime"
      ]
    },
    {
      "cell_type": "markdown",
      "metadata": {
        "id": "vU3gcEtmZbmG"
      },
      "source": [
        "##### Method 1"
      ]
    },
    {
      "cell_type": "code",
      "execution_count": null,
      "metadata": {
        "id": "Dz0KoTURZAJj"
      },
      "outputs": [],
      "source": [
        "def is_prime_number(n: int) -> bool:\n",
        "    if n <= 1:\n",
        "        return False\n",
        "    for i in range(2,int(n**0.5) + 1):\n",
        "        if n % i == 0:\n",
        "            return False\n",
        "    return True"
      ]
    },
    {
      "cell_type": "code",
      "execution_count": null,
      "metadata": {
        "id": "qHa9wsujZee8"
      },
      "outputs": [],
      "source": [
        "def euler010_1(limit: int) -> int:\n",
        "    primes = [i for i in range(limit) if is_prime_number(i)]\n",
        "    return sum(primes)"
      ]
    },
    {
      "cell_type": "code",
      "execution_count": null,
      "metadata": {
        "colab": {
          "base_uri": "https://localhost:8080/"
        },
        "id": "_-y5cZgpZtHj",
        "outputId": "5b8e876e-e09b-4d9f-aa52-b67235ea559a"
      },
      "outputs": [
        {
          "name": "stdout",
          "output_type": "stream",
          "text": [
            "CPU times: user 4 µs, sys: 0 ns, total: 4 µs\n",
            "Wall time: 7.63 µs\n"
          ]
        },
        {
          "data": {
            "text/plain": [
              "142913828922"
            ]
          },
          "execution_count": 5,
          "metadata": {},
          "output_type": "execute_result"
        }
      ],
      "source": [
        "%time\n",
        "euler010_1(2000000)"
      ]
    },
    {
      "cell_type": "markdown",
      "metadata": {
        "id": "UaZHvOCg2NUj"
      },
      "source": [
        "# Euler Problem 5\n",
        "\n",
        "https://projecteuler.net/problem=5\n",
        "\n",
        "## $2520$ is the smallest number that can be divided by each of the numbers from $1$ to $10$ without any remainder.\n",
        "\n",
        "## What is the smallest positive number that is **evenly divisible** divisible with no remainder by all of the numbers from $1$ to $20$?"
      ]
    },
    {
      "cell_type": "code",
      "execution_count": null,
      "metadata": {
        "id": "TaULBbubZvgL"
      },
      "outputs": [],
      "source": [
        "def gcd(a: int, b: int) -> int:\n",
        "    if a % b == 0:\n",
        "        return b\n",
        "    return gcd(b, a % b)"
      ]
    },
    {
      "cell_type": "code",
      "execution_count": null,
      "metadata": {
        "id": "SOoG5TxJ2YlR"
      },
      "outputs": [],
      "source": [
        "def lcm2(a: int, b: int) -> int:\n",
        "    return (a * b) // gcd(a,b)"
      ]
    },
    {
      "cell_type": "code",
      "execution_count": null,
      "metadata": {
        "id": "9ezM6vFv2bce"
      },
      "outputs": [],
      "source": [
        "def lcm(nums: list[int]) -> int:\n",
        "    if len(nums) == 1:\n",
        "        return nums[0]\n",
        "    elif len(nums) == 2:\n",
        "        return lcm2(nums[0],nums[1])\n",
        "    else:\n",
        "        #return lcm2(nums[0], lcm(nums[1:]))\n",
        "        #return lcm2(lcm2(nums[0],nums[1]),lcm(nums[2:]))\n",
        "        return lcm([lcm2(nums[0],nums[1])] + nums[2:])"
      ]
    },
    {
      "cell_type": "code",
      "execution_count": null,
      "metadata": {
        "colab": {
          "base_uri": "https://localhost:8080/"
        },
        "id": "Guq4CFxG2d_u",
        "outputId": "f0414a88-fac2-4c0d-ed01-65ddb4c2d493"
      },
      "outputs": [
        {
          "data": {
            "text/plain": [
              "232792560"
            ]
          },
          "execution_count": 20,
          "metadata": {},
          "output_type": "execute_result"
        }
      ],
      "source": [
        "lcm(list(range(1,21)))"
      ]
    },
    {
      "cell_type": "markdown",
      "metadata": {
        "id": "P3C-KgZZ2oHJ"
      },
      "source": [
        "## Understanding anothr functional programming pillar of *Reduce* that can be used in reducing the first two elements in a list using a function and applying the function recursively to the list -1 elements again\n",
        "\n",
        "## Reduce(f, S) -> Reduce(f,[f(S[0],S[1])] + S[2:])"
      ]
    },
    {
      "cell_type": "code",
      "execution_count": null,
      "metadata": {
        "id": "Yr-Kxm7D2gkv"
      },
      "outputs": [],
      "source": [
        "import functools as ft\n",
        "\n",
        "def gcd(a: int, b: int) -> int:\n",
        "    if a % b == 0:\n",
        "        return b\n",
        "    else:\n",
        "        return gcd(b,a % b)\n",
        "\n",
        "def lcm2(a: int, b: int) -> int:\n",
        "    return (a * b) // gcd(a,b)\n",
        "\n",
        "def lcm_with_reduce(nums: list[int]) -> int:\n",
        "    return ft.reduce(lcm2, nums)"
      ]
    },
    {
      "cell_type": "code",
      "execution_count": null,
      "metadata": {
        "colab": {
          "base_uri": "https://localhost:8080/"
        },
        "id": "K1uVGsl23D3G",
        "outputId": "1661c343-831f-422f-bcb8-a7de0d9c54a3"
      },
      "outputs": [
        {
          "data": {
            "text/plain": [
              "232792560"
            ]
          },
          "execution_count": 21,
          "metadata": {},
          "output_type": "execute_result"
        }
      ],
      "source": [
        "lcm_with_reduce(range(1,21))"
      ]
    },
    {
      "cell_type": "markdown",
      "metadata": {
        "id": "CcxJJzN5FhI5"
      },
      "source": [
        "# FIZZBUZZ Problem\n",
        "\n",
        "The FizzBuzz problem is a classic test given in coding interviews.\n",
        "\n",
        "The task is simple: Print integers 1 to N, but print “Fizz” if an integer is divisible by 3,\n",
        "\n",
        "“Buzz” if an integer is divisible by 5,\n",
        "\n",
        "and “FizzBuzz” if an integer is divisible by both 3 and 5."
      ]
    },
    {
      "cell_type": "code",
      "execution_count": null,
      "metadata": {
        "id": "DYDf7Ht13Pv9"
      },
      "outputs": [],
      "source": [
        "def make_fizzbuzz(f, limit: int) -> list[str]:\n",
        "    return [f(_) for _ in range(1,limit)]"
      ]
    },
    {
      "cell_type": "markdown",
      "metadata": {
        "id": "7HtiYDrYFp-3"
      },
      "source": [
        "##### Method 1: function for 1 number"
      ]
    },
    {
      "cell_type": "code",
      "execution_count": null,
      "metadata": {
        "id": "OUFRB_FpFnuX"
      },
      "outputs": [],
      "source": [
        "def fizzbuzz1(n: int) -> str:\n",
        "    if n % 15 == 0:\n",
        "        return \"FizzBuzz\"\n",
        "    elif n % 3 == 0:\n",
        "        return \"Fizz\"\n",
        "    elif n % 5 == 0:\n",
        "        return \"Buzz\"\n",
        "    else:\n",
        "        return str(n)"
      ]
    },
    {
      "cell_type": "code",
      "execution_count": null,
      "metadata": {
        "colab": {
          "base_uri": "https://localhost:8080/"
        },
        "id": "QdMdP0qZFr-O",
        "outputId": "290fd528-984e-41a0-9c4b-123acb27e40f"
      },
      "outputs": [
        {
          "data": {
            "text/plain": [
              "['1',\n",
              " '2',\n",
              " 'Fizz',\n",
              " '4',\n",
              " 'Buzz',\n",
              " 'Fizz',\n",
              " '7',\n",
              " '8',\n",
              " 'Fizz',\n",
              " 'Buzz',\n",
              " '11',\n",
              " 'Fizz',\n",
              " '13',\n",
              " '14',\n",
              " 'FizzBuzz',\n",
              " '16',\n",
              " '17',\n",
              " 'Fizz',\n",
              " '19',\n",
              " 'Buzz']"
            ]
          },
          "execution_count": 37,
          "metadata": {},
          "output_type": "execute_result"
        }
      ],
      "source": [
        "make_fizzbuzz(fizzbuzz1,21)"
      ]
    },
    {
      "cell_type": "markdown",
      "metadata": {
        "id": "e6tKn71uFxQc"
      },
      "source": [
        "##### Method 2: function for 2 numbers"
      ]
    },
    {
      "cell_type": "code",
      "execution_count": null,
      "metadata": {
        "id": "AH1qEIz5Fupv"
      },
      "outputs": [],
      "source": [
        "def fizzbuzz2(n: int) -> str:\n",
        "    fb = \"\"\n",
        "    if n % 3 == 0:\n",
        "        fb += \"Fizz\"\n",
        "    if n % 5 == 0:\n",
        "        fb += \"Buzz\"\n",
        "    if len(fb) == 0:\n",
        "        return str(n)\n",
        "    else:\n",
        "        return fb"
      ]
    },
    {
      "cell_type": "markdown",
      "metadata": {
        "id": "qHT1OqKWJwmL"
      },
      "source": [
        "##### Method 3: function with 3 numbers"
      ]
    },
    {
      "cell_type": "code",
      "execution_count": null,
      "metadata": {
        "id": "RytZ-USlFz3m"
      },
      "outputs": [],
      "source": [
        "divisors = {3:\"Fizz\",5: \"Buzz\"}"
      ]
    },
    {
      "cell_type": "code",
      "execution_count": null,
      "metadata": {
        "id": "YPFlsa5mJ06K"
      },
      "outputs": [],
      "source": [
        "def fizzbuzz3(divisors: dict, n:int) -> str:\n",
        "    fb = \"\"\n",
        "    for d in sorted(divisors.keys()):\n",
        "        if n % d == 0:\n",
        "            fb += divisors[d]\n",
        "    if len(fb) == 0:\n",
        "        return str(n)\n",
        "    else:\n",
        "     return(fb)"
      ]
    },
    {
      "cell_type": "code",
      "execution_count": null,
      "metadata": {
        "colab": {
          "base_uri": "https://localhost:8080/",
          "height": 35
        },
        "id": "R5Zl4BhAJ2Tr",
        "outputId": "08f87890-32b6-424c-a8b0-8f26d8d37e6e"
      },
      "outputs": [
        {
          "data": {
            "application/vnd.google.colaboratory.intrinsic+json": {
              "type": "string"
            },
            "text/plain": [
              "'FizzBuzz'"
            ]
          },
          "execution_count": 41,
          "metadata": {},
          "output_type": "execute_result"
        }
      ],
      "source": [
        "fizzbuzz3(divisors, 15)"
      ]
    },
    {
      "cell_type": "markdown",
      "metadata": {
        "id": "Jq4XpPtCJ6Gt"
      },
      "source": [
        "##### Method 4: list of 15 strings"
      ]
    },
    {
      "cell_type": "code",
      "execution_count": null,
      "metadata": {
        "id": "At6LunTMJ32q"
      },
      "outputs": [],
      "source": [
        "def fizzbuzz4(n: int) -> str:\n",
        "    fbs = [\"FizzBuzz\", \"\", \"\", \"Fizz\", \"\", \"Buzz\", \"Fizz\", \"\", \"\", \"Fizz\", \"Buzz\", \"\", \"Fizz\", \"\", \"\"]\n",
        "    pos = n % 15\n",
        "    if fbs[pos] == \"\":\n",
        "        return str(n)\n",
        "    else:\n",
        "        return fbs[pos]"
      ]
    },
    {
      "cell_type": "code",
      "execution_count": null,
      "metadata": {
        "colab": {
          "base_uri": "https://localhost:8080/"
        },
        "id": "TY1_ExCRJ8bb",
        "outputId": "cf88c8f4-d6ad-49f0-9703-1e27f7a5b471"
      },
      "outputs": [
        {
          "data": {
            "text/plain": [
              "['1',\n",
              " '2',\n",
              " 'Fizz',\n",
              " '4',\n",
              " 'Buzz',\n",
              " 'Fizz',\n",
              " '7',\n",
              " '8',\n",
              " 'Fizz',\n",
              " 'Buzz',\n",
              " '11',\n",
              " 'Fizz',\n",
              " '13',\n",
              " '14',\n",
              " 'FizzBuzz']"
            ]
          },
          "execution_count": 43,
          "metadata": {},
          "output_type": "execute_result"
        }
      ],
      "source": [
        "make_fizzbuzz(fizzbuzz4, 16)"
      ]
    },
    {
      "cell_type": "markdown",
      "metadata": {
        "id": "9QMIisK4KAYz"
      },
      "source": [
        "##### Method 5: Dictionary keys as tuple"
      ]
    },
    {
      "cell_type": "code",
      "execution_count": null,
      "metadata": {
        "id": "sabxHTWyJ97A"
      },
      "outputs": [],
      "source": [
        "def fizzbuzz5(n: int) -> str:\n",
        "    fbs = {(True, True): \"FizzBuzz\",\n",
        "           (True, False): \"Fizz\",\n",
        "           (False, True): \"Buzz\",\n",
        "           (False, False): str(n)}\n",
        "    return fbs[(n % 3 == 0, n % 5 == 0)]"
      ]
    },
    {
      "cell_type": "code",
      "execution_count": null,
      "metadata": {
        "colab": {
          "base_uri": "https://localhost:8080/"
        },
        "id": "OVh_xO3cKCRh",
        "outputId": "649ab234-2210-4b04-f2f4-84e8abd2b1ce"
      },
      "outputs": [
        {
          "data": {
            "text/plain": [
              "['1',\n",
              " '2',\n",
              " 'Fizz',\n",
              " '4',\n",
              " 'Buzz',\n",
              " 'Fizz',\n",
              " '7',\n",
              " '8',\n",
              " 'Fizz',\n",
              " 'Buzz',\n",
              " '11',\n",
              " 'Fizz',\n",
              " '13',\n",
              " '14',\n",
              " 'FizzBuzz']"
            ]
          },
          "execution_count": 45,
          "metadata": {},
          "output_type": "execute_result"
        }
      ],
      "source": [
        "make_fizzbuzz(fizzbuzz5, 16)"
      ]
    },
    {
      "cell_type": "markdown",
      "metadata": {
        "id": "cYG86KRyKG1v"
      },
      "source": [
        "##### Method 6: list with index derived from divisisibility conditions"
      ]
    },
    {
      "cell_type": "code",
      "execution_count": null,
      "metadata": {
        "id": "4ftdSVwIKEPg"
      },
      "outputs": [],
      "source": [
        "def pick(n: int) -> int:\n",
        "    return 2 * int(n % 5 == 0) + int(n % 3 == 0)\n",
        "\n",
        "def fizzbuzz6(n: int) -> str:\n",
        "    return [str(n), \"Fizz\", \"Buzz\", \"FizzBuzz\"][pick(n)]"
      ]
    },
    {
      "cell_type": "code",
      "execution_count": null,
      "metadata": {
        "colab": {
          "base_uri": "https://localhost:8080/"
        },
        "id": "c5gw0bgfKIyY",
        "outputId": "6a5ad4d7-d8d3-49f1-e7e4-c85f3e1082fe"
      },
      "outputs": [
        {
          "data": {
            "text/plain": [
              "['1',\n",
              " '2',\n",
              " 'Fizz',\n",
              " '4',\n",
              " 'Buzz',\n",
              " 'Fizz',\n",
              " '7',\n",
              " '8',\n",
              " 'Fizz',\n",
              " 'Buzz',\n",
              " '11',\n",
              " 'Fizz',\n",
              " '13',\n",
              " '14',\n",
              " 'FizzBuzz']"
            ]
          },
          "execution_count": 47,
          "metadata": {},
          "output_type": "execute_result"
        }
      ],
      "source": [
        "make_fizzbuzz(fizzbuzz6, 16)"
      ]
    },
    {
      "cell_type": "markdown",
      "metadata": {
        "id": "XxhNNSijKNxK"
      },
      "source": [
        "##### Method 7: slicing"
      ]
    },
    {
      "cell_type": "code",
      "execution_count": null,
      "metadata": {
        "id": "l4ds18ovKKz4"
      },
      "outputs": [],
      "source": [
        "def make_fizzbuzz2(limit: int) -> list[str]:\n",
        "    fbs = [str(n) for n in range(limit)]\n",
        "    fbs[::3] = [\"Fizz\"] * len(fbs[::3])\n",
        "    fbs[::5] = [\"Buzz\"] * len(fbs[::5])\n",
        "    fbs[::15] = [\"FizzBuzz\"] * len(fbs[::15])\n",
        "    return fbs[1:]"
      ]
    },
    {
      "cell_type": "code",
      "execution_count": null,
      "metadata": {
        "colab": {
          "base_uri": "https://localhost:8080/"
        },
        "id": "lf9cGKgBKQrL",
        "outputId": "42f32d49-4936-4a0d-c62b-531fc6e216aa"
      },
      "outputs": [
        {
          "data": {
            "text/plain": [
              "['1',\n",
              " '2',\n",
              " 'Fizz',\n",
              " '4',\n",
              " 'Buzz',\n",
              " 'Fizz',\n",
              " '7',\n",
              " '8',\n",
              " 'Fizz',\n",
              " 'Buzz',\n",
              " '11',\n",
              " 'Fizz',\n",
              " '13',\n",
              " '14',\n",
              " 'FizzBuzz']"
            ]
          },
          "execution_count": 49,
          "metadata": {},
          "output_type": "execute_result"
        }
      ],
      "source": [
        "make_fizzbuzz2(16)"
      ]
    },
    {
      "cell_type": "markdown",
      "metadata": {
        "id": "u51fZLAfLPtB"
      },
      "source": [
        "# Euler Problem 4\n",
        "## A palindromic number reads the same both ways. The largest palindrome made from the product of two 2-digit numbers is $9009$ = $91$ x $99$.\n",
        "\n",
        "##Find the largest palindrome made from the product of two 3-digit numbers."
      ]
    },
    {
      "cell_type": "code",
      "execution_count": null,
      "metadata": {
        "id": "9mxBwbLhKS1j"
      },
      "outputs": [],
      "source": [
        "def reversing(s: str) -> str:\n",
        "    return s[::-1]"
      ]
    },
    {
      "cell_type": "code",
      "execution_count": null,
      "metadata": {
        "colab": {
          "base_uri": "https://localhost:8080/",
          "height": 35
        },
        "id": "W1u7HHEULzn_",
        "outputId": "596234cd-f09d-4bfc-8a64-a809517ce921"
      },
      "outputs": [
        {
          "data": {
            "application/vnd.google.colaboratory.intrinsic+json": {
              "type": "string"
            },
            "text/plain": [
              "'2919'"
            ]
          },
          "execution_count": 53,
          "metadata": {},
          "output_type": "execute_result"
        }
      ],
      "source": [
        "n = \"9192\"\n",
        "n_reverse = n[::-1]\n",
        "n_reverse"
      ]
    },
    {
      "cell_type": "code",
      "execution_count": null,
      "metadata": {
        "id": "mqIfWyI0X1YJ"
      },
      "outputs": [],
      "source": [
        "def is_product_palindrome(i: int, j: int) -> bool:\n",
        "    return str(i * j) == str(i * j)[::-1]"
      ]
    },
    {
      "cell_type": "code",
      "execution_count": null,
      "metadata": {
        "id": "0RQdH0BbL4jz"
      },
      "outputs": [],
      "source": [
        "def find_palindrome(limit: int) -> str:\n",
        "    palindrome2 = {}\n",
        "    for i in range(100,limit,1):\n",
        "        for j in range (100,limit,1):\n",
        "            if is_product_palindrome(i, j):\n",
        "                palindrome2[(i,j)] = i * j\n",
        "    return max(palindrome2, key=palindrome2.get), max(palindrome2.values())"
      ]
    },
    {
      "cell_type": "code",
      "execution_count": null,
      "metadata": {
        "colab": {
          "base_uri": "https://localhost:8080/"
        },
        "id": "M1F1pqd4Oh0j",
        "outputId": "c77ede53-dfe4-48a4-dc16-781d70c0bb1a"
      },
      "outputs": [
        {
          "data": {
            "text/plain": [
              "((913, 993), 906609)"
            ]
          },
          "execution_count": 123,
          "metadata": {},
          "output_type": "execute_result"
        }
      ],
      "source": [
        "find_palindrome(1000)"
      ]
    },
    {
      "cell_type": "markdown",
      "metadata": {
        "id": "-bKH9NXAowNf"
      },
      "source": [
        "# Euler Problem 3: Largest Prime Factor\n",
        " https://projecteuler.net/problem=3\n",
        "<p>The prime factors of $13195$ are $5, 7, 13$ and $29$.</p>\n",
        "<p>What is the largest prime factor of the number $600851475143$?</p>"
      ]
    },
    {
      "cell_type": "code",
      "execution_count": null,
      "metadata": {
        "id": "EGgDGAuKOjwc"
      },
      "outputs": [],
      "source": [
        "def factorize(n : int) -> list[int]:\n",
        "    factors = []\n",
        "    r = 3\n",
        "    if n % 2 == 0:\n",
        "        factors.append(2)\n",
        "        n //= 2\n",
        "    while n > 1:\n",
        "        while n % r == 0:\n",
        "            factors.append(r)\n",
        "            n //= r\n",
        "        r += 2\n",
        "    return factors\n"
      ]
    },
    {
      "cell_type": "code",
      "execution_count": null,
      "metadata": {
        "colab": {
          "base_uri": "https://localhost:8080/"
        },
        "id": "E--bKkpmSCk-",
        "outputId": "4c294e4c-9476-4db2-cad2-489f7389e815"
      },
      "outputs": [
        {
          "data": {
            "text/plain": [
              "6857"
            ]
          },
          "execution_count": 132,
          "metadata": {},
          "output_type": "execute_result"
        }
      ],
      "source": [
        "max(factorize(600851475143))"
      ]
    },
    {
      "cell_type": "markdown",
      "metadata": {
        "id": "Ko2S671ytA4y"
      },
      "source": [
        "# Euler Problem 8: Largest Product in a Series\n",
        "\n",
        "https://projecteuler.net/problem=8\n",
        "\n",
        "# <p>The four adjacent digits in the $1000$-digit number that have the greatest product are $9 \\times 9 \\times 8 \\times 9 = 5832$.</p>\n",
        "<p class=\"monospace center\">\n",
        "73167176531330624919225119674426574742355349194934<br>\n",
        "96983520312774506326239578318016984801869478851843<br>\n",
        "85861560789112949495459501737958331952853208805511<br>\n",
        "12540698747158523863050715693290963295227443043557<br>\n",
        "66896648950445244523161731856403098711121722383113<br>\n",
        "62229893423380308135336276614282806444486645238749<br>\n",
        "30358907296290491560440772390713810515859307960866<br>\n",
        "70172427121883998797908792274921901699720888093776<br>\n",
        "65727333001053367881220235421809751254540594752243<br>\n",
        "52584907711670556013604839586446706324415722155397<br>\n",
        "53697817977846174064955149290862569321978468622482<br>\n",
        "83972241375657056057490261407972968652414535100474<br>\n",
        "82166370484403199890008895243450658541227588666881<br>\n",
        "16427171479924442928230863465674813919123162824586<br>\n",
        "17866458359124566529476545682848912883142607690042<br>\n",
        "24219022671055626321111109370544217506941658960408<br>\n",
        "07198403850962455444362981230987879927244284909188<br>\n",
        "84580156166097919133875499200524063689912560717606<br>\n",
        "05886116467109405077541002256983155200055935729725<br>\n",
        "71636269561882670428252483600823257530420752963450<br></p>\n",
        "<p>Find the thirteen adjacent digits in the $1000$-digit number that have the greatest product. What is the value of this product?</p>"
      ]
    },
    {
      "cell_type": "code",
      "execution_count": null,
      "metadata": {
        "id": "UKM-otK_yna6"
      },
      "outputs": [],
      "source": [
        "euler8_number = \"73167176531330624919225119674426574742355349194934\\\n",
        "96983520312774506326239578318016984801869478851843\\\n",
        "85861560789112949495459501737958331952853208805511\\\n",
        "12540698747158523863050715693290963295227443043557\\\n",
        "66896648950445244523161731856403098711121722383113\\\n",
        "62229893423380308135336276614282806444486645238749\\\n",
        "30358907296290491560440772390713810515859307960866\\\n",
        "70172427121883998797908792274921901699720888093776\\\n",
        "65727333001053367881220235421809751254540594752243\\\n",
        "52584907711670556013604839586446706324415722155397\\\n",
        "53697817977846174064955149290862569321978468622482\\\n",
        "83972241375657056057490261407972968652414535100474\\\n",
        "82166370484403199890008895243450658541227588666881\\\n",
        "16427171479924442928230863465674813919123162824586\\\n",
        "17866458359124566529476545682848912883142607690042\\\n",
        "24219022671055626321111109370544217506941658960408\\\n",
        "07198403850962455444362981230987879927244284909188\\\n",
        "84580156166097919133875499200524063689912560717606\\\n",
        "05886116467109405077541002256983155200055935729725\\\n",
        "71636269561882670428252483600823257530420752963450\""
      ]
    },
    {
      "cell_type": "code",
      "execution_count": null,
      "metadata": {
        "id": "PRJymca43Ksd"
      },
      "outputs": [],
      "source": [
        "def num_prod(nums: str) -> int:\n",
        "    num_product = 1\n",
        "    for ch in nums:\n",
        "        num_product *= int(ch)\n",
        "    return num_product"
      ]
    },
    {
      "cell_type": "code",
      "execution_count": null,
      "metadata": {
        "id": "lRp9pWkPvGWu"
      },
      "outputs": [],
      "source": [
        "def rolling_window(nums: str, window_size: int) -> tuple:\n",
        "    max_prod = 0\n",
        "    max_window_start = 0\n",
        "    for start in range(len(nums) + 1 - window_size):\n",
        "        window = nums[start: start + window_size]\n",
        "        window_prod = num_prod(window)\n",
        "        if max_prod < window_prod:\n",
        "            max_prod = window_prod\n",
        "            max_window_start = start\n",
        "    return nums[max_window_start: max_window_start + window_size], max_prod"
      ]
    },
    {
      "cell_type": "code",
      "execution_count": null,
      "metadata": {
        "colab": {
          "base_uri": "https://localhost:8080/"
        },
        "id": "nRDM76CVvJc5",
        "outputId": "a4dfe5ff-27fc-4cd5-f095-cf527ab390e1"
      },
      "outputs": [
        {
          "data": {
            "text/plain": [
              "('5576689664895', 23514624000)"
            ]
          },
          "execution_count": 6,
          "metadata": {},
          "output_type": "execute_result"
        }
      ],
      "source": [
        "rolling_window(euler8_number,13)"
      ]
    },
    {
      "cell_type": "markdown",
      "metadata": {
        "id": "L95zT88eXTuf"
      },
      "source": [
        "# Euler Problem 21: Amicable Numbers\n",
        "\n",
        "<p>Let $d(n)$ be defined as the sum of proper divisors of $n$ (numbers less than $n$ which divide evenly into $n$).<br>\n",
        "If $d(a) = b$ and $d(b) = a$, where $a \\ne b$, then $a$ and $b$ are an amicable pair and each of $a$ and $b$ are called amicable numbers.</p>\n",
        "<p>For example, the proper divisors of $220$ are $1, 2, 4, 5, 10, 11, 20, 22, 44, 55$ and $110$; therefore $d(220) = 284$. The proper divisors of $284$ are $1, 2, 4, 71$ and $142$; so $d(284) = 220$.</p>\n",
        "<p>Evaluate the sum of all the amicable numbers under $10000$.</p>\n"
      ]
    },
    {
      "cell_type": "code",
      "execution_count": null,
      "metadata": {
        "id": "hDPet-hNwUkq"
      },
      "outputs": [],
      "source": [
        "def divisors(num: int) -> list[int]:\n",
        "    '''aliquot of a number is defined as the sum of proper divisors of N\n",
        "    that is numbers less than N which divide evenly into N. '''\n",
        "    r = 2\n",
        "    aliquot = 1\n",
        "    while r * r < num:\n",
        "        if num % r == 0:\n",
        "            aliquot += r + (num//r)\n",
        "        r += 1\n",
        "    if (num // r) == r:\n",
        "        aliquot += r\n",
        "    return aliquot"
      ]
    },
    {
      "cell_type": "code",
      "execution_count": null,
      "metadata": {
        "colab": {
          "base_uri": "https://localhost:8080/"
        },
        "id": "0fXK4RuzYmum",
        "outputId": "da89aa9b-b410-4a48-c1aa-5c9f415689d7"
      },
      "outputs": [
        {
          "data": {
            "text/plain": [
              "284"
            ]
          },
          "execution_count": 46,
          "metadata": {},
          "output_type": "execute_result"
        }
      ],
      "source": [
        "divisors(220)"
      ]
    },
    {
      "cell_type": "code",
      "execution_count": null,
      "metadata": {
        "id": "ohu8DlzCYqFL"
      },
      "outputs": [],
      "source": [
        "def amicability(num: int) -> list[tuple]:\n",
        "    amicable_pairs = []\n",
        "    for i in range(num):\n",
        "        divisors_sum = divisors(i)\n",
        "        if divisors_sum > i:\n",
        "            if divisors(divisors_sum) == i:\n",
        "                amicable_pairs.append((i,divisors_sum))\n",
        "    return amicable_pairs"
      ]
    },
    {
      "cell_type": "code",
      "execution_count": null,
      "metadata": {
        "colab": {
          "base_uri": "https://localhost:8080/"
        },
        "id": "Upo-YGLmaaz-",
        "outputId": "a50eb8c4-a9e8-411a-d60a-184e0cf5e196"
      },
      "outputs": [
        {
          "data": {
            "text/plain": [
              "[(220, 284), (1184, 1210), (2620, 2924), (5020, 5564), (6232, 6368)]"
            ]
          },
          "execution_count": 53,
          "metadata": {},
          "output_type": "execute_result"
        }
      ],
      "source": [
        "amicability(10000)"
      ]
    },
    {
      "cell_type": "markdown",
      "metadata": {
        "id": "I7Y7xEa-mRke"
      },
      "source": [
        "## A number is described as A or D or V or P or X.\n",
        "\n",
        "## A digits are ascending; eg 1789\n",
        "## D digits are descending; eg 421\n",
        "## P digits are ascending and then; descending PEAK eg 127532\n",
        "## V digits are descending and then ascending VALLEY; eg 973478\n",
        "## X if it is netiher A or D or P or V\n"
      ]
    },
    {
      "cell_type": "code",
      "execution_count": null,
      "metadata": {
        "id": "8KvfAM-LlmDI"
      },
      "outputs": [],
      "source": [
        "def is_ascending(num: int) -> bool:\n",
        "    return all([a < b for a, b in zip(str(num), str(num)[1:])])"
      ]
    },
    {
      "cell_type": "code",
      "execution_count": null,
      "metadata": {
        "colab": {
          "base_uri": "https://localhost:8080/"
        },
        "id": "yL6z90OboAAO",
        "outputId": "2a296126-c140-487a-d4ae-e9d4ea12559d"
      },
      "outputs": [
        {
          "name": "stdout",
          "output_type": "stream",
          "text": [
            "True False\n"
          ]
        }
      ],
      "source": [
        "print(is_ascending(1789),is_ascending(421))"
      ]
    },
    {
      "cell_type": "code",
      "execution_count": null,
      "metadata": {
        "id": "XYHT-iKByVd7"
      },
      "outputs": [],
      "source": [
        "def is_descending(num: int) -> bool:\n",
        "    return all([a > b for a,b in zip(str(num), str(num)[1:])])"
      ]
    },
    {
      "cell_type": "code",
      "execution_count": null,
      "metadata": {
        "colab": {
          "base_uri": "https://localhost:8080/"
        },
        "id": "61X8nIVWyh_h",
        "outputId": "145e2a66-65cf-4650-f9c7-81c21fea629b"
      },
      "outputs": [
        {
          "name": "stdout",
          "output_type": "stream",
          "text": [
            "False True\n"
          ]
        }
      ],
      "source": [
        "print(is_descending(1789), is_descending(421))"
      ]
    },
    {
      "cell_type": "code",
      "execution_count": null,
      "metadata": {
        "id": "NWzktLAKykuA"
      },
      "outputs": [],
      "source": [
        "def is_peaking(num: int) -> bool:\n",
        "    s = str(num)\n",
        "    triplets = [a < b > c for a, b, c in zip(s, s[1:], s[2:])]\n",
        "    return len([i for i in triplets if i]) == 1"
      ]
    },
    {
      "cell_type": "code",
      "execution_count": null,
      "metadata": {
        "colab": {
          "background_save": true,
          "base_uri": "https://localhost:8080/"
        },
        "id": "IwtxgGld1g7X",
        "outputId": "538e8bd9-76bd-4858-e837-c430eba89bb5"
      },
      "outputs": [
        {
          "name": "stdout",
          "output_type": "stream",
          "text": [
            "False False True\n"
          ]
        }
      ],
      "source": [
        "print(is_peaking(1789), is_peaking(421), is_peaking(127532))"
      ]
    },
    {
      "cell_type": "code",
      "source": [
        "def is_peaking2(n: int) -> bool:\n",
        "    s = str(n)\n",
        "    peak = max(s)\n",
        "    pieces = s.split(peak)\n",
        "    return len(pieces) == 2 and is_ascending(pieces[0]) and is_descending(pieces[1]) and len(pieces[0]) != 0 and len(pieces[1]) != 0"
      ],
      "metadata": {
        "id": "jIm6bgaL_0h5"
      },
      "execution_count": 156,
      "outputs": []
    },
    {
      "cell_type": "code",
      "execution_count": 153,
      "metadata": {
        "id": "kTnw2W1e1poI"
      },
      "outputs": [],
      "source": [
        "def is_valley(n: int) -> bool:\n",
        "    s = str(n)\n",
        "    triplets = [a > b < c for a, b, c in zip(s, s[1:], s[2:])]\n",
        "    return len([x for x in triplets if x]) == 1"
      ]
    },
    {
      "cell_type": "code",
      "source": [
        "def classify(n: int) -> str:\n",
        "    if is_ascending(n):\n",
        "        return 'A'\n",
        "    elif is_descending(n):\n",
        "        return 'D'\n",
        "    elif is_peak(n):\n",
        "        return 'P'\n",
        "    elif is_valley(n):\n",
        "        return 'V'\n",
        "    else:\n",
        "        return 'X'"
      ],
      "metadata": {
        "id": "PV46i5d9_x_9"
      },
      "execution_count": 154,
      "outputs": []
    },
    {
      "cell_type": "code",
      "source": [
        "print(is_peaking2(1789), is_peaking2(421), is_peaking2(127532))"
      ],
      "metadata": {
        "colab": {
          "base_uri": "https://localhost:8080/"
        },
        "id": "IAFV9nam_8mZ",
        "outputId": "839bb30e-6e96-4c12-86b4-f3d148d1d96f"
      },
      "execution_count": 157,
      "outputs": [
        {
          "output_type": "stream",
          "name": "stdout",
          "text": [
            "False False True\n"
          ]
        }
      ]
    },
    {
      "cell_type": "markdown",
      "source": [
        "# Odometer\n",
        "\n",
        "## 347, 348, 349, 356, 357, 358, 359, 367\n",
        "## 4689, 4679, 4678, 4589,\n",
        "\n",
        "## 129 - 146 = 134, 135, 136, 137, 138, 139, 145, 146\n",
        "\n",
        "## next_reading(), next_kth_reading(129, 7)\n",
        "## prev_reading(), prev_kth_reading(459, 56)\n",
        "## distance(a, b)"
      ],
      "metadata": {
        "id": "Z2Eqz9TXAUCk"
      }
    },
    {
      "cell_type": "code",
      "source": [
        "def size(n: int) -> int:\n",
        "    return len(str(n))\n",
        "\n",
        "def limits(n: int) -> tuple[int,int]:\n",
        "    def size(n: int) -> int:\n",
        "        return len(str(n))\n",
        "    DIGITS = \"123456789\"\n",
        "    k = size(n)\n",
        "    return int(DIGITS[:k]), int(DIGITS[-k:])"
      ],
      "metadata": {
        "id": "3fbA8F-yARkz"
      },
      "execution_count": 158,
      "outputs": []
    },
    {
      "cell_type": "code",
      "source": [
        "def next_reading(reading: int) -> int:\n",
        "    low, high = limits(reading)\n",
        "    if reading == high:\n",
        "        return low\n",
        "    reading += 1\n",
        "    while not is_ascending(reading):\n",
        "        reading += 1\n",
        "    return reading"
      ],
      "metadata": {
        "id": "Lzh2Jt_fKyu-"
      },
      "execution_count": 159,
      "outputs": []
    },
    {
      "cell_type": "code",
      "source": [
        "next_reading(370)"
      ],
      "metadata": {
        "colab": {
          "base_uri": "https://localhost:8080/"
        },
        "id": "8nhqG-uGK0fX",
        "outputId": "decff4e8-2272-45e0-80b2-bd1e47efe63f"
      },
      "execution_count": 160,
      "outputs": [
        {
          "output_type": "execute_result",
          "data": {
            "text/plain": [
              "378"
            ]
          },
          "metadata": {},
          "execution_count": 160
        }
      ]
    },
    {
      "cell_type": "code",
      "source": [
        "def prev_reading(reading: int) -> int:\n",
        "    low, high = limits(reading)\n",
        "    if reading == low:\n",
        "        return high\n",
        "    reading -= 1\n",
        "    while not is_ascending(reading):\n",
        "        reading -= 1\n",
        "    return reading"
      ],
      "metadata": {
        "id": "Xl34q-JVK17P"
      },
      "execution_count": 161,
      "outputs": []
    },
    {
      "cell_type": "code",
      "source": [
        "prev_reading(4689)"
      ],
      "metadata": {
        "colab": {
          "base_uri": "https://localhost:8080/"
        },
        "id": "TauHJUs6K5HX",
        "outputId": "20ce89b5-d71c-47c7-cd98-0b99e01eab96"
      },
      "execution_count": 162,
      "outputs": [
        {
          "output_type": "execute_result",
          "data": {
            "text/plain": [
              "4679"
            ]
          },
          "metadata": {},
          "execution_count": 162
        }
      ]
    },
    {
      "cell_type": "code",
      "source": [
        "def distance(a_reading: int, b_reading: int) -> int:\n",
        "    if size(a_reading) != size(b_reading):\n",
        "        return -1\n",
        "    diff = 0\n",
        "    while a_reading != b_reading:\n",
        "        diff += 1\n",
        "        a_reading = next_reading(a_reading)\n",
        "    return diff"
      ],
      "metadata": {
        "id": "tkC5THQXK7YW"
      },
      "execution_count": 163,
      "outputs": []
    },
    {
      "cell_type": "code",
      "source": [
        "distance(347, 358)"
      ],
      "metadata": {
        "colab": {
          "base_uri": "https://localhost:8080/"
        },
        "id": "vx_XNlaCK9WO",
        "outputId": "1f89d14f-1185-43ce-9441-5fae9bb103df"
      },
      "execution_count": 164,
      "outputs": [
        {
          "output_type": "execute_result",
          "data": {
            "text/plain": [
              "5"
            ]
          },
          "metadata": {},
          "execution_count": 164
        }
      ]
    },
    {
      "cell_type": "code",
      "source": [
        "def next_kth_reading(reading: int, step: int) -> int:\n",
        "    for i in range(step):\n",
        "        reading = next_reading(reading)\n",
        "    return reading\n",
        "\n",
        "def prev_kth_reading(reading: int, step: int) -> int:\n",
        "    for i in range(step):\n",
        "        reading = prev_reading(reading)\n",
        "    return reading"
      ],
      "metadata": {
        "id": "iojVSSP_K_yv"
      },
      "execution_count": 165,
      "outputs": []
    },
    {
      "cell_type": "code",
      "source": [
        "#347, 348, 349, 356, 357, 358, 359, 367\n",
        "next_kth_reading(347,6)"
      ],
      "metadata": {
        "colab": {
          "base_uri": "https://localhost:8080/"
        },
        "id": "nC4ENEwXLBcO",
        "outputId": "b217f9c0-d6ba-4fa9-c240-efccbd63284a"
      },
      "execution_count": 166,
      "outputs": [
        {
          "output_type": "execute_result",
          "data": {
            "text/plain": [
              "359"
            ]
          },
          "metadata": {},
          "execution_count": 166
        }
      ]
    },
    {
      "cell_type": "code",
      "source": [
        "#4689, 4679, 4678, 4589 (next 3 descending readings)\n",
        "prev_kth_reading(4689,3)"
      ],
      "metadata": {
        "colab": {
          "base_uri": "https://localhost:8080/"
        },
        "id": "jpkjnPcNLDGI",
        "outputId": "e22d115c-6bdf-4454-d22d-ad411abd06ef"
      },
      "execution_count": 167,
      "outputs": [
        {
          "output_type": "execute_result",
          "data": {
            "text/plain": [
              "4589"
            ]
          },
          "metadata": {},
          "execution_count": 167
        }
      ]
    },
    {
      "cell_type": "code",
      "source": [
        "#with defauly parameter for step\n",
        "def forward(reading: int, step: int = 1) -> int:\n",
        "    low, high = limits(reading)\n",
        "    for i in range(step):\n",
        "        if reading == high:\n",
        "            return low\n",
        "        else:\n",
        "            reading += 1\n",
        "            while not is_ascending(reading):\n",
        "                reading += 1\n",
        "    return reading"
      ],
      "metadata": {
        "id": "9up2uBaoLEna"
      },
      "execution_count": 188,
      "outputs": []
    },
    {
      "cell_type": "code",
      "source": [
        "forward(347)"
      ],
      "metadata": {
        "colab": {
          "base_uri": "https://localhost:8080/"
        },
        "id": "fOqfu4qBOv9k",
        "outputId": "a19e02ea-c7b4-48a9-b822-3eab501cffb7"
      },
      "execution_count": 189,
      "outputs": [
        {
          "output_type": "execute_result",
          "data": {
            "text/plain": [
              "348"
            ]
          },
          "metadata": {},
          "execution_count": 189
        }
      ]
    },
    {
      "cell_type": "code",
      "source": [
        "forward(347,4)"
      ],
      "metadata": {
        "colab": {
          "base_uri": "https://localhost:8080/"
        },
        "id": "hrsDng9vO2-7",
        "outputId": "711496d0-17f0-478c-8f90-ae8044fe59da"
      },
      "execution_count": 190,
      "outputs": [
        {
          "output_type": "execute_result",
          "data": {
            "text/plain": [
              "357"
            ]
          },
          "metadata": {},
          "execution_count": 190
        }
      ]
    },
    {
      "cell_type": "code",
      "source": [
        "#with defauly parameter for step\n",
        "def backward(reading: int, step: int = 1) -> int:\n",
        "    low, high = limits(reading)\n",
        "    for i in range(step):\n",
        "        if reading == low:\n",
        "            return high\n",
        "        else:\n",
        "            reading -= 1\n",
        "            while not is_ascending(reading):\n",
        "                reading -= 1\n",
        "    return reading"
      ],
      "metadata": {
        "id": "gqwE9vYrO60j"
      },
      "execution_count": 182,
      "outputs": []
    },
    {
      "cell_type": "code",
      "source": [
        "backward(4689)"
      ],
      "metadata": {
        "colab": {
          "base_uri": "https://localhost:8080/"
        },
        "id": "0UDZ_gkoPK2C",
        "outputId": "c7af7b33-8c06-4f95-d6be-5e29e42d37e5"
      },
      "execution_count": 185,
      "outputs": [
        {
          "output_type": "execute_result",
          "data": {
            "text/plain": [
              "4679"
            ]
          },
          "metadata": {},
          "execution_count": 185
        }
      ]
    },
    {
      "cell_type": "code",
      "source": [
        "backward(4689,3)"
      ],
      "metadata": {
        "colab": {
          "base_uri": "https://localhost:8080/"
        },
        "id": "AJo3V76XPMLL",
        "outputId": "40a57aaf-0986-469b-cfd3-48647d7d869d"
      },
      "execution_count": 187,
      "outputs": [
        {
          "output_type": "execute_result",
          "data": {
            "text/plain": [
              "4589"
            ]
          },
          "metadata": {},
          "execution_count": 187
        }
      ]
    }
  ],
  "metadata": {
    "colab": {
      "provenance": [],
      "authorship_tag": "ABX9TyMA6GfQTWxnllM94bklvGjA",
      "include_colab_link": true
    },
    "kernelspec": {
      "display_name": "Python 3",
      "name": "python3"
    },
    "language_info": {
      "name": "python"
    }
  },
  "nbformat": 4,
  "nbformat_minor": 0
}