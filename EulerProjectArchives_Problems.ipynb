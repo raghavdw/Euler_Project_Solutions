{
  "nbformat": 4,
  "nbformat_minor": 0,
  "metadata": {
    "colab": {
      "provenance": [],
      "authorship_tag": "ABX9TyPve9Lc1kmzjPJ44WfUKfoT",
      "include_colab_link": true
    },
    "kernelspec": {
      "name": "python3",
      "display_name": "Python 3"
    },
    "language_info": {
      "name": "python"
    }
  },
  "cells": [
    {
      "cell_type": "markdown",
      "metadata": {
        "id": "view-in-github",
        "colab_type": "text"
      },
      "source": [
        "<a href=\"https://colab.research.google.com/github/raghavdw/Euler_Project_Solutions/blob/main/EulerProjectArchives_Problems.ipynb\" target=\"_parent\"><img src=\"https://colab.research.google.com/assets/colab-badge.svg\" alt=\"Open In Colab\"/></a>"
      ]
    },
    {
      "cell_type": "markdown",
      "source": [
        "# Euler Problem 1\n",
        "\n",
        "https://projecteuler.net/problem=1\n",
        "\n",
        "## If we list all the natural numbers below $10$ that are multiples of $3$ or $5$, we get $3, 5, 6, $ and $9$. The sum of these multiples is $23$.\n",
        "\n",
        "## Find the sum of all the multiples of or below $1000$."
      ],
      "metadata": {
        "id": "x9ojH7fL6AaR"
      }
    },
    {
      "cell_type": "markdown",
      "source": [
        "##### Method 1: loop, range, condition"
      ],
      "metadata": {
        "id": "7iP1SmvP6I9I"
      }
    },
    {
      "cell_type": "code",
      "source": [
        "def select(n: int) -> bool:\n",
        "    return n % 3 == 0 or n % 5 == 0\n",
        "\n",
        "def euler001_1(limit:int) -> int:\n",
        "    n, total = 1, 0\n",
        "    while n < limit:\n",
        "        if select(n):\n",
        "            total += n\n",
        "        n += 1\n",
        "    return total"
      ],
      "metadata": {
        "id": "2QsKSO-D6F0i"
      },
      "execution_count": 22,
      "outputs": []
    },
    {
      "cell_type": "code",
      "source": [
        "print(euler001_1(10))\n",
        "print(euler001_1(1000))"
      ],
      "metadata": {
        "colab": {
          "base_uri": "https://localhost:8080/"
        },
        "id": "ssMuCMgH6OpC",
        "outputId": "7ebd53aa-ebed-4d4a-9cad-5dce6e712eb9"
      },
      "execution_count": 23,
      "outputs": [
        {
          "output_type": "stream",
          "name": "stdout",
          "text": [
            "23\n",
            "233168\n"
          ]
        }
      ]
    },
    {
      "cell_type": "markdown",
      "source": [
        "##### Method 2: loop, range, condition"
      ],
      "metadata": {
        "id": "qtVyPuwX6U94"
      }
    },
    {
      "cell_type": "code",
      "source": [
        "def euler001_2(limit: int) -> int:\n",
        "    total = 0\n",
        "    for n in range(1, limit):\n",
        "        if select(n):\n",
        "            total += n\n",
        "    return total"
      ],
      "metadata": {
        "id": "TKcQN7Yt6Wb1"
      },
      "execution_count": 24,
      "outputs": []
    },
    {
      "cell_type": "code",
      "source": [
        "print(euler001_2(1000))"
      ],
      "metadata": {
        "colab": {
          "base_uri": "https://localhost:8080/"
        },
        "id": "JuONv2C96a50",
        "outputId": "3b1bdf44-7b96-45f2-dad1-3978ea584713"
      },
      "execution_count": 25,
      "outputs": [
        {
          "output_type": "stream",
          "name": "stdout",
          "text": [
            "233168\n"
          ]
        }
      ]
    },
    {
      "cell_type": "markdown",
      "source": [
        "##### Method 3: range,multiples"
      ],
      "metadata": {
        "id": "ghXuHdhq6adQ"
      }
    },
    {
      "cell_type": "code",
      "source": [
        "def euler001_3(limit: int) -> int:\n",
        "    return sum(range(3,limit,3)) +\\\n",
        "           sum(range(5,limit,5)) -\\\n",
        "           sum(range(15,limit,15))"
      ],
      "metadata": {
        "id": "yCrtN92d6iQm"
      },
      "execution_count": 26,
      "outputs": []
    },
    {
      "cell_type": "code",
      "source": [
        "print(euler001_3(1000))"
      ],
      "metadata": {
        "colab": {
          "base_uri": "https://localhost:8080/"
        },
        "id": "SLl-cvmx6lPc",
        "outputId": "d1ee0e89-ca48-4364-dda1-d54953cbe5ff"
      },
      "execution_count": 27,
      "outputs": [
        {
          "output_type": "stream",
          "name": "stdout",
          "text": [
            "233168\n"
          ]
        }
      ]
    },
    {
      "cell_type": "markdown",
      "source": [
        "##### Method 4: Multiples, range"
      ],
      "metadata": {
        "id": "VBnYwuvV605a"
      }
    },
    {
      "cell_type": "code",
      "source": [
        "def multiples(of:int, upto: int) -> range:\n",
        "    return range(of, upto, of)"
      ],
      "metadata": {
        "id": "nWSU6Ifd6_JE"
      },
      "execution_count": 28,
      "outputs": []
    },
    {
      "cell_type": "code",
      "source": [
        "def euler001_4(limit: int) -> int:\n",
        "    return sum(set(multiples(3,limit)) | set(multiples(5, limit)))"
      ],
      "metadata": {
        "id": "X-9qvlJ67AxP"
      },
      "execution_count": 29,
      "outputs": []
    },
    {
      "cell_type": "code",
      "source": [
        "print(euler001_4(1000))"
      ],
      "metadata": {
        "colab": {
          "base_uri": "https://localhost:8080/"
        },
        "id": "1m2eYTzG7Ga6",
        "outputId": "989359b1-7524-4302-b5d2-ec10afb42625"
      },
      "execution_count": 30,
      "outputs": [
        {
          "output_type": "stream",
          "name": "stdout",
          "text": [
            "233168\n"
          ]
        }
      ]
    },
    {
      "cell_type": "markdown",
      "source": [
        "##### Method 5: filter(condition,range)"
      ],
      "metadata": {
        "id": "NgdrP6iD7KMS"
      }
    },
    {
      "cell_type": "code",
      "source": [
        "def euler001_5(limit:int) -> int:\n",
        "    return sum(filter(select,range(1,limit)))"
      ],
      "metadata": {
        "id": "kl-_i0DU7OCB"
      },
      "execution_count": 31,
      "outputs": []
    },
    {
      "cell_type": "code",
      "source": [
        "print(euler001_5(1000))"
      ],
      "metadata": {
        "colab": {
          "base_uri": "https://localhost:8080/"
        },
        "id": "g0vGs8Bo7Qd0",
        "outputId": "755107b0-0a85-4865-b4a1-3e61e9702776"
      },
      "execution_count": 32,
      "outputs": [
        {
          "output_type": "stream",
          "name": "stdout",
          "text": [
            "233168\n"
          ]
        }
      ]
    },
    {
      "cell_type": "markdown",
      "source": [
        "##### Method 6: list comprehension"
      ],
      "metadata": {
        "id": "48NDFRM57Wi9"
      }
    },
    {
      "cell_type": "code",
      "source": [
        "def euler001_6(limit:int) -> int:\n",
        "    return sum([i for i in range(1, limit) if select(i)])"
      ],
      "metadata": {
        "id": "JfMwDr1E7ZXq"
      },
      "execution_count": 33,
      "outputs": []
    },
    {
      "cell_type": "code",
      "source": [
        "euler001_6(1000)"
      ],
      "metadata": {
        "colab": {
          "base_uri": "https://localhost:8080/"
        },
        "id": "_Ho2ylTb7bZr",
        "outputId": "6368b91f-471b-449d-8422-d8300bb29d2c"
      },
      "execution_count": 34,
      "outputs": [
        {
          "output_type": "execute_result",
          "data": {
            "text/plain": [
              "233168"
            ]
          },
          "metadata": {},
          "execution_count": 34
        }
      ]
    },
    {
      "cell_type": "markdown",
      "source": [
        "# Euler Problem 10\n",
        "\n",
        "https://projecteuler.net/problem=10\n",
        "\n",
        "## The sum of prime below 10 is 2 + 3 + 5 + 7 = 17\n",
        "\n",
        "## Find the sum of all primes below two million"
      ],
      "metadata": {
        "id": "bYVbAIQNZHAg"
      }
    },
    {
      "cell_type": "markdown",
      "source": [
        " # Solution 10\n",
        "\n",
        " if $N$ = $a \\times b$\n",
        "\n",
        "and  \n",
        "\n",
        " $a > \\sqrt{N} \\Rightarrow b < \\sqrt{N}$  \n",
        "\n",
        " which means if a number has no factor (except 1) below $\\sqrt{N}$ it **is** a prime"
      ],
      "metadata": {
        "id": "JtoJf5NUZJbE"
      }
    },
    {
      "cell_type": "markdown",
      "source": [
        "##### Method 1"
      ],
      "metadata": {
        "id": "vU3gcEtmZbmG"
      }
    },
    {
      "cell_type": "code",
      "execution_count": null,
      "metadata": {
        "id": "Dz0KoTURZAJj"
      },
      "outputs": [],
      "source": [
        "def is_prime_number(n: int) -> bool:\n",
        "    if n <= 1:\n",
        "        return False\n",
        "    for i in range(2,int(n**0.5) + 1):\n",
        "        if n % i == 0:\n",
        "            return False\n",
        "    return True"
      ]
    },
    {
      "cell_type": "code",
      "source": [
        "def euler010_1(limit: int) -> int:\n",
        "    primes = [i for i in range(limit) if is_prime_number(i)]\n",
        "    return sum(primes)"
      ],
      "metadata": {
        "id": "qHa9wsujZee8"
      },
      "execution_count": null,
      "outputs": []
    },
    {
      "cell_type": "code",
      "source": [
        "%time\n",
        "euler010_1(2000000)"
      ],
      "metadata": {
        "colab": {
          "base_uri": "https://localhost:8080/"
        },
        "id": "_-y5cZgpZtHj",
        "outputId": "5b8e876e-e09b-4d9f-aa52-b67235ea559a"
      },
      "execution_count": null,
      "outputs": [
        {
          "output_type": "stream",
          "name": "stdout",
          "text": [
            "CPU times: user 4 µs, sys: 0 ns, total: 4 µs\n",
            "Wall time: 7.63 µs\n"
          ]
        },
        {
          "output_type": "execute_result",
          "data": {
            "text/plain": [
              "142913828922"
            ]
          },
          "metadata": {},
          "execution_count": 5
        }
      ]
    },
    {
      "cell_type": "markdown",
      "source": [
        "# Euler Problem 5\n",
        "\n",
        "https://projecteuler.net/problem=5\n",
        "\n",
        "## $2520$ is the smallest number that can be divided by each of the numbers from $1$ to $10$ without any remainder.\n",
        "\n",
        "## What is the smallest positive number that is **evenly divisible** divisible with no remainder by all of the numbers from $1$ to $20$?"
      ],
      "metadata": {
        "id": "UaZHvOCg2NUj"
      }
    },
    {
      "cell_type": "code",
      "source": [
        "def gcd(a: int, b: int) -> int:\n",
        "    if a % b == 0:\n",
        "        return b\n",
        "    return gcd(b, a % b)"
      ],
      "metadata": {
        "id": "TaULBbubZvgL"
      },
      "execution_count": 1,
      "outputs": []
    },
    {
      "cell_type": "code",
      "source": [
        "def lcm2(a: int, b: int) -> int:\n",
        "    return (a * b) // gcd(a,b)"
      ],
      "metadata": {
        "id": "SOoG5TxJ2YlR"
      },
      "execution_count": 2,
      "outputs": []
    },
    {
      "cell_type": "code",
      "source": [
        "def lcm(nums: list[int]) -> int:\n",
        "    if len(nums) == 1:\n",
        "        return nums[0]\n",
        "    elif len(nums) == 2:\n",
        "        return lcm2(nums[0],nums[1])\n",
        "    else:\n",
        "        #return lcm2(nums[0], lcm(nums[1:]))\n",
        "        #return lcm2(lcm2(nums[0],nums[1]),lcm(nums[2:]))\n",
        "        return lcm([lcm2(nums[0],nums[1])] + nums[2:])"
      ],
      "metadata": {
        "id": "9ezM6vFv2bce"
      },
      "execution_count": 3,
      "outputs": []
    },
    {
      "cell_type": "code",
      "source": [
        "lcm(list(range(1,21)))"
      ],
      "metadata": {
        "colab": {
          "base_uri": "https://localhost:8080/"
        },
        "id": "Guq4CFxG2d_u",
        "outputId": "f0414a88-fac2-4c0d-ed01-65ddb4c2d493"
      },
      "execution_count": 20,
      "outputs": [
        {
          "output_type": "execute_result",
          "data": {
            "text/plain": [
              "232792560"
            ]
          },
          "metadata": {},
          "execution_count": 20
        }
      ]
    },
    {
      "cell_type": "markdown",
      "source": [
        "## Understanding anothr functional programming pillar of *Reduce* that can be used in reducing the first two elements in a list using a function and applying the function recursively to the list -1 elements again\n",
        "\n",
        "## Reduce(f, S) -> Reduce(f,[f(S[0],S[1])] + S[2:])"
      ],
      "metadata": {
        "id": "P3C-KgZZ2oHJ"
      }
    },
    {
      "cell_type": "code",
      "source": [
        "import functools as ft\n",
        "\n",
        "def gcd(a: int, b: int) -> int:\n",
        "    if a % b == 0:\n",
        "        return b\n",
        "    else:\n",
        "        return gcd(b,a % b)\n",
        "\n",
        "def lcm2(a: int, b: int) -> int:\n",
        "    return (a * b) // gcd(a,b)\n",
        "\n",
        "def lcm_with_reduce(nums: list[int]) -> int:\n",
        "    return ft.reduce(lcm2, nums)"
      ],
      "metadata": {
        "id": "Yr-Kxm7D2gkv"
      },
      "execution_count": 6,
      "outputs": []
    },
    {
      "cell_type": "code",
      "source": [
        "lcm_with_reduce(range(1,21))"
      ],
      "metadata": {
        "colab": {
          "base_uri": "https://localhost:8080/"
        },
        "id": "K1uVGsl23D3G",
        "outputId": "1661c343-831f-422f-bcb8-a7de0d9c54a3"
      },
      "execution_count": 21,
      "outputs": [
        {
          "output_type": "execute_result",
          "data": {
            "text/plain": [
              "232792560"
            ]
          },
          "metadata": {},
          "execution_count": 21
        }
      ]
    },
    {
      "cell_type": "markdown",
      "source": [
        "# FIZZBUZZ Problem\n",
        "\n",
        "The FizzBuzz problem is a classic test given in coding interviews.\n",
        "\n",
        "The task is simple: Print integers 1 to N, but print “Fizz” if an integer is divisible by 3,\n",
        "\n",
        "“Buzz” if an integer is divisible by 5,\n",
        "\n",
        "and “FizzBuzz” if an integer is divisible by both 3 and 5."
      ],
      "metadata": {
        "id": "CcxJJzN5FhI5"
      }
    },
    {
      "cell_type": "code",
      "source": [
        "def make_fizzbuzz(f, limit: int) -> list[str]:\n",
        "    return [f(_) for _ in range(1,limit)]"
      ],
      "metadata": {
        "id": "DYDf7Ht13Pv9"
      },
      "execution_count": 35,
      "outputs": []
    },
    {
      "cell_type": "markdown",
      "source": [
        "##### Method 1: function for 1 number"
      ],
      "metadata": {
        "id": "7HtiYDrYFp-3"
      }
    },
    {
      "cell_type": "code",
      "source": [
        "def fizzbuzz1(n: int) -> str:\n",
        "    if n % 15 == 0:\n",
        "        return \"FizzBuzz\"\n",
        "    elif n % 3 == 0:\n",
        "        return \"Fizz\"\n",
        "    elif n % 5 == 0:\n",
        "        return \"Buzz\"\n",
        "    else:\n",
        "        return str(n)"
      ],
      "metadata": {
        "id": "OUFRB_FpFnuX"
      },
      "execution_count": 36,
      "outputs": []
    },
    {
      "cell_type": "code",
      "source": [
        "make_fizzbuzz(fizzbuzz1,21)"
      ],
      "metadata": {
        "colab": {
          "base_uri": "https://localhost:8080/"
        },
        "id": "QdMdP0qZFr-O",
        "outputId": "290fd528-984e-41a0-9c4b-123acb27e40f"
      },
      "execution_count": 37,
      "outputs": [
        {
          "output_type": "execute_result",
          "data": {
            "text/plain": [
              "['1',\n",
              " '2',\n",
              " 'Fizz',\n",
              " '4',\n",
              " 'Buzz',\n",
              " 'Fizz',\n",
              " '7',\n",
              " '8',\n",
              " 'Fizz',\n",
              " 'Buzz',\n",
              " '11',\n",
              " 'Fizz',\n",
              " '13',\n",
              " '14',\n",
              " 'FizzBuzz',\n",
              " '16',\n",
              " '17',\n",
              " 'Fizz',\n",
              " '19',\n",
              " 'Buzz']"
            ]
          },
          "metadata": {},
          "execution_count": 37
        }
      ]
    },
    {
      "cell_type": "markdown",
      "source": [
        "##### Method 2: function for 2 numbers"
      ],
      "metadata": {
        "id": "e6tKn71uFxQc"
      }
    },
    {
      "cell_type": "code",
      "source": [
        "def fizzbuzz2(n: int) -> str:\n",
        "    fb = \"\"\n",
        "    if n % 3 == 0:\n",
        "        fb += \"Fizz\"\n",
        "    if n % 5 == 0:\n",
        "        fb += \"Buzz\"\n",
        "    if len(fb) == 0:\n",
        "        return str(n)\n",
        "    else:\n",
        "        return fb"
      ],
      "metadata": {
        "id": "AH1qEIz5Fupv"
      },
      "execution_count": 38,
      "outputs": []
    },
    {
      "cell_type": "markdown",
      "source": [
        "##### Method 3: function with 3 numbers"
      ],
      "metadata": {
        "id": "qHT1OqKWJwmL"
      }
    },
    {
      "cell_type": "code",
      "source": [
        "divisors = {3:\"Fizz\",5: \"Buzz\"}"
      ],
      "metadata": {
        "id": "RytZ-USlFz3m"
      },
      "execution_count": 39,
      "outputs": []
    },
    {
      "cell_type": "code",
      "source": [
        "def fizzbuzz3(divisors: dict, n:int) -> str:\n",
        "    fb = \"\"\n",
        "    for d in sorted(divisors.keys()):\n",
        "        if n % d == 0:\n",
        "            fb += divisors[d]\n",
        "    if len(fb) == 0:\n",
        "        return str(n)\n",
        "    else:\n",
        "     return(fb)"
      ],
      "metadata": {
        "id": "YPFlsa5mJ06K"
      },
      "execution_count": 40,
      "outputs": []
    },
    {
      "cell_type": "code",
      "source": [
        "fizzbuzz3(divisors, 15)"
      ],
      "metadata": {
        "colab": {
          "base_uri": "https://localhost:8080/",
          "height": 35
        },
        "id": "R5Zl4BhAJ2Tr",
        "outputId": "08f87890-32b6-424c-a8b0-8f26d8d37e6e"
      },
      "execution_count": 41,
      "outputs": [
        {
          "output_type": "execute_result",
          "data": {
            "text/plain": [
              "'FizzBuzz'"
            ],
            "application/vnd.google.colaboratory.intrinsic+json": {
              "type": "string"
            }
          },
          "metadata": {},
          "execution_count": 41
        }
      ]
    },
    {
      "cell_type": "markdown",
      "source": [
        "##### Method 4: list of 15 strings"
      ],
      "metadata": {
        "id": "Jq4XpPtCJ6Gt"
      }
    },
    {
      "cell_type": "code",
      "source": [
        "def fizzbuzz4(n: int) -> str:\n",
        "    fbs = [\"FizzBuzz\", \"\", \"\", \"Fizz\", \"\", \"Buzz\", \"Fizz\", \"\", \"\", \"Fizz\", \"Buzz\", \"\", \"Fizz\", \"\", \"\"]\n",
        "    pos = n % 15\n",
        "    if fbs[pos] == \"\":\n",
        "        return str(n)\n",
        "    else:\n",
        "        return fbs[pos]"
      ],
      "metadata": {
        "id": "At6LunTMJ32q"
      },
      "execution_count": 42,
      "outputs": []
    },
    {
      "cell_type": "code",
      "source": [
        "make_fizzbuzz(fizzbuzz4, 16)"
      ],
      "metadata": {
        "colab": {
          "base_uri": "https://localhost:8080/"
        },
        "id": "TY1_ExCRJ8bb",
        "outputId": "cf88c8f4-d6ad-49f0-9703-1e27f7a5b471"
      },
      "execution_count": 43,
      "outputs": [
        {
          "output_type": "execute_result",
          "data": {
            "text/plain": [
              "['1',\n",
              " '2',\n",
              " 'Fizz',\n",
              " '4',\n",
              " 'Buzz',\n",
              " 'Fizz',\n",
              " '7',\n",
              " '8',\n",
              " 'Fizz',\n",
              " 'Buzz',\n",
              " '11',\n",
              " 'Fizz',\n",
              " '13',\n",
              " '14',\n",
              " 'FizzBuzz']"
            ]
          },
          "metadata": {},
          "execution_count": 43
        }
      ]
    },
    {
      "cell_type": "markdown",
      "source": [
        "##### Method 5: Dictionary keys as tuple"
      ],
      "metadata": {
        "id": "9QMIisK4KAYz"
      }
    },
    {
      "cell_type": "code",
      "source": [
        "def fizzbuzz5(n: int) -> str:\n",
        "    fbs = {(True, True): \"FizzBuzz\",\n",
        "           (True, False): \"Fizz\",\n",
        "           (False, True): \"Buzz\",\n",
        "           (False, False): str(n)}\n",
        "    return fbs[(n % 3 == 0, n % 5 == 0)]"
      ],
      "metadata": {
        "id": "sabxHTWyJ97A"
      },
      "execution_count": 44,
      "outputs": []
    },
    {
      "cell_type": "code",
      "source": [
        "make_fizzbuzz(fizzbuzz5, 16)"
      ],
      "metadata": {
        "colab": {
          "base_uri": "https://localhost:8080/"
        },
        "id": "OVh_xO3cKCRh",
        "outputId": "649ab234-2210-4b04-f2f4-84e8abd2b1ce"
      },
      "execution_count": 45,
      "outputs": [
        {
          "output_type": "execute_result",
          "data": {
            "text/plain": [
              "['1',\n",
              " '2',\n",
              " 'Fizz',\n",
              " '4',\n",
              " 'Buzz',\n",
              " 'Fizz',\n",
              " '7',\n",
              " '8',\n",
              " 'Fizz',\n",
              " 'Buzz',\n",
              " '11',\n",
              " 'Fizz',\n",
              " '13',\n",
              " '14',\n",
              " 'FizzBuzz']"
            ]
          },
          "metadata": {},
          "execution_count": 45
        }
      ]
    },
    {
      "cell_type": "markdown",
      "source": [
        "##### Method 6: list with index derived from divisisibility conditions"
      ],
      "metadata": {
        "id": "cYG86KRyKG1v"
      }
    },
    {
      "cell_type": "code",
      "source": [
        "def pick(n: int) -> int:\n",
        "    return 2 * int(n % 5 == 0) + int(n % 3 == 0)\n",
        "\n",
        "def fizzbuzz6(n: int) -> str:\n",
        "    return [str(n), \"Fizz\", \"Buzz\", \"FizzBuzz\"][pick(n)]"
      ],
      "metadata": {
        "id": "4ftdSVwIKEPg"
      },
      "execution_count": 46,
      "outputs": []
    },
    {
      "cell_type": "code",
      "source": [
        "make_fizzbuzz(fizzbuzz6, 16)"
      ],
      "metadata": {
        "colab": {
          "base_uri": "https://localhost:8080/"
        },
        "id": "c5gw0bgfKIyY",
        "outputId": "6a5ad4d7-d8d3-49f1-e7e4-c85f3e1082fe"
      },
      "execution_count": 47,
      "outputs": [
        {
          "output_type": "execute_result",
          "data": {
            "text/plain": [
              "['1',\n",
              " '2',\n",
              " 'Fizz',\n",
              " '4',\n",
              " 'Buzz',\n",
              " 'Fizz',\n",
              " '7',\n",
              " '8',\n",
              " 'Fizz',\n",
              " 'Buzz',\n",
              " '11',\n",
              " 'Fizz',\n",
              " '13',\n",
              " '14',\n",
              " 'FizzBuzz']"
            ]
          },
          "metadata": {},
          "execution_count": 47
        }
      ]
    },
    {
      "cell_type": "markdown",
      "source": [
        "##### Method 7: slicing"
      ],
      "metadata": {
        "id": "XxhNNSijKNxK"
      }
    },
    {
      "cell_type": "code",
      "source": [
        "def make_fizzbuzz2(limit: int) -> list[str]:\n",
        "    fbs = [str(n) for n in range(limit)]\n",
        "    fbs[::3] = [\"Fizz\"] * len(fbs[::3])\n",
        "    fbs[::5] = [\"Buzz\"] * len(fbs[::5])\n",
        "    fbs[::15] = [\"FizzBuzz\"] * len(fbs[::15])\n",
        "    return fbs[1:]"
      ],
      "metadata": {
        "id": "l4ds18ovKKz4"
      },
      "execution_count": 48,
      "outputs": []
    },
    {
      "cell_type": "code",
      "source": [
        "make_fizzbuzz2(16)"
      ],
      "metadata": {
        "colab": {
          "base_uri": "https://localhost:8080/"
        },
        "id": "lf9cGKgBKQrL",
        "outputId": "42f32d49-4936-4a0d-c62b-531fc6e216aa"
      },
      "execution_count": 49,
      "outputs": [
        {
          "output_type": "execute_result",
          "data": {
            "text/plain": [
              "['1',\n",
              " '2',\n",
              " 'Fizz',\n",
              " '4',\n",
              " 'Buzz',\n",
              " 'Fizz',\n",
              " '7',\n",
              " '8',\n",
              " 'Fizz',\n",
              " 'Buzz',\n",
              " '11',\n",
              " 'Fizz',\n",
              " '13',\n",
              " '14',\n",
              " 'FizzBuzz']"
            ]
          },
          "metadata": {},
          "execution_count": 49
        }
      ]
    },
    {
      "cell_type": "code",
      "source": [],
      "metadata": {
        "id": "9mxBwbLhKS1j"
      },
      "execution_count": null,
      "outputs": []
    }
  ]
}